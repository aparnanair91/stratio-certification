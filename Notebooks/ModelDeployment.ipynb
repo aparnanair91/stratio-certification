{
 "cells": [
  {
   "cell_type": "code",
   "execution_count": 1,
   "metadata": {},
   "outputs": [],
   "source": [
    "# importing\n",
    "from mleap import pyspark\n",
    "from pyspark.sql import functions as f\n",
    "from pyspark.ml.feature import VectorAssembler, StringIndexer\n",
    "from pyspark.ml import Pipeline\n",
    "from pyspark.ml.classification import DecisionTreeClassifier"
   ]
  },
  {
   "cell_type": "code",
   "execution_count": 7,
   "metadata": {},
   "outputs": [
    {
     "name": "stdout",
     "output_type": "stream",
     "text": [
      "+---+---+------+---+-------+---------------+----------------+-------------+--------+-------------------+----+\n",
      "| ID|Age|   Sex|Job|Housing|Saving accounts|Checking account|Credit amount|Duration|            Purpose|Risk|\n",
      "+---+---+------+---+-------+---------------+----------------+-------------+--------+-------------------+----+\n",
      "|  0| 67|  male|  2|    own|             NA|          little|         1169|       6|           radio/TV|good|\n",
      "|  1| 22|female|  2|    own|         little|        moderate|         5951|      48|           radio/TV| bad|\n",
      "|  2| 49|  male|  1|    own|         little|              NA|         2096|      12|          education|good|\n",
      "|  3| 45|  male|  2|   free|         little|          little|         7882|      42|furniture/equipment|good|\n",
      "|  4| 53|  male|  2|   free|         little|          little|         4870|      24|                car| bad|\n",
      "|  5| 35|  male|  1|   free|             NA|              NA|         9055|      36|          education|good|\n",
      "|  6| 53|  male|  2|    own|     quite rich|              NA|         2835|      24|furniture/equipment|good|\n",
      "|  7| 35|  male|  3|   rent|         little|        moderate|         6948|      36|                car|good|\n",
      "|  8| 61|  male|  1|    own|           rich|              NA|         3059|      12|           radio/TV|good|\n",
      "|  9| 28|  male|  3|    own|         little|        moderate|         5234|      30|                car| bad|\n",
      "| 10| 25|female|  2|   rent|         little|        moderate|         1295|      12|                car| bad|\n",
      "| 11| 24|female|  2|   rent|         little|          little|         4308|      48|           business| bad|\n",
      "| 12| 22|female|  2|    own|         little|        moderate|         1567|      12|           radio/TV|good|\n",
      "| 13| 60|  male|  1|    own|         little|          little|         1199|      24|                car| bad|\n",
      "| 14| 28|female|  2|   rent|         little|          little|         1403|      15|                car|good|\n",
      "| 15| 32|female|  1|    own|       moderate|          little|         1282|      24|           radio/TV| bad|\n",
      "| 16| 53|  male|  2|    own|             NA|              NA|         2424|      24|           radio/TV|good|\n",
      "| 17| 25|  male|  2|    own|             NA|          little|         8072|      30|           business|good|\n",
      "| 18| 44|female|  3|   free|         little|        moderate|        12579|      24|                car| bad|\n",
      "| 19| 31|  male|  2|    own|     quite rich|              NA|         3430|      24|           radio/TV|good|\n",
      "+---+---+------+---+-------+---------------+----------------+-------------+--------+-------------------+----+\n",
      "only showing top 20 rows\n",
      "\n"
     ]
    }
   ],
   "source": [
    "# Loading\n",
    "file_path = \"/sparta/ey_an/input/german_credit_data_labels.csv\"\n",
    "df = spark.read.csv(file_path, header=True, inferSchema=True)\n",
    "df.show()"
   ]
  },
  {
   "cell_type": "markdown",
   "metadata": {},
   "source": [
    "Dropping unwanted columns that doesnt add to model featuring"
   ]
  },
  {
   "cell_type": "code",
   "execution_count": 8,
   "metadata": {},
   "outputs": [
    {
     "name": "stdout",
     "output_type": "stream",
     "text": [
      "+---+---+-------+---------------+----------------+-------------+--------+-------------------+----+\n",
      "| ID|Age|Housing|Saving accounts|Checking account|Credit amount|Duration|            Purpose|Risk|\n",
      "+---+---+-------+---------------+----------------+-------------+--------+-------------------+----+\n",
      "|  0| 67|    own|             NA|          little|         1169|       6|           radio/TV|good|\n",
      "|  1| 22|    own|         little|        moderate|         5951|      48|           radio/TV| bad|\n",
      "|  2| 49|    own|         little|              NA|         2096|      12|          education|good|\n",
      "|  3| 45|   free|         little|          little|         7882|      42|furniture/equipment|good|\n",
      "|  4| 53|   free|         little|          little|         4870|      24|                car| bad|\n",
      "|  5| 35|   free|             NA|              NA|         9055|      36|          education|good|\n",
      "|  6| 53|    own|     quite rich|              NA|         2835|      24|furniture/equipment|good|\n",
      "|  7| 35|   rent|         little|        moderate|         6948|      36|                car|good|\n",
      "|  8| 61|    own|           rich|              NA|         3059|      12|           radio/TV|good|\n",
      "|  9| 28|    own|         little|        moderate|         5234|      30|                car| bad|\n",
      "| 10| 25|   rent|         little|        moderate|         1295|      12|                car| bad|\n",
      "| 11| 24|   rent|         little|          little|         4308|      48|           business| bad|\n",
      "| 12| 22|    own|         little|        moderate|         1567|      12|           radio/TV|good|\n",
      "| 13| 60|    own|         little|          little|         1199|      24|                car| bad|\n",
      "| 14| 28|   rent|         little|          little|         1403|      15|                car|good|\n",
      "| 15| 32|    own|       moderate|          little|         1282|      24|           radio/TV| bad|\n",
      "| 16| 53|    own|             NA|              NA|         2424|      24|           radio/TV|good|\n",
      "| 17| 25|    own|             NA|          little|         8072|      30|           business|good|\n",
      "| 18| 44|   free|         little|        moderate|        12579|      24|                car| bad|\n",
      "| 19| 31|    own|     quite rich|              NA|         3430|      24|           radio/TV|good|\n",
      "+---+---+-------+---------------+----------------+-------------+--------+-------------------+----+\n",
      "only showing top 20 rows\n",
      "\n"
     ]
    }
   ],
   "source": [
    "# Data dropping and vectorization\n",
    "df = df.drop('Sex', 'Job')\n",
    "df.show()"
   ]
  },
  {
   "cell_type": "markdown",
   "metadata": {},
   "source": [
    "Vectorisation of Risk Column"
   ]
  },
  {
   "cell_type": "code",
   "execution_count": 9,
   "metadata": {},
   "outputs": [
    {
     "name": "stdout",
     "output_type": "stream",
     "text": [
      "+---+---+-------+---------------+----------------+-------------+--------+-------------------+-----------+\n",
      "| ID|Age|Housing|Saving accounts|Checking account|Credit amount|Duration|            Purpose|Binary_Risk|\n",
      "+---+---+-------+---------------+----------------+-------------+--------+-------------------+-----------+\n",
      "|  0| 67|    own|             NA|          little|         1169|       6|           radio/TV|        0.0|\n",
      "|  1| 22|    own|         little|        moderate|         5951|      48|           radio/TV|        1.0|\n",
      "|  2| 49|    own|         little|              NA|         2096|      12|          education|        0.0|\n",
      "|  3| 45|   free|         little|          little|         7882|      42|furniture/equipment|        0.0|\n",
      "|  4| 53|   free|         little|          little|         4870|      24|                car|        1.0|\n",
      "|  5| 35|   free|             NA|              NA|         9055|      36|          education|        0.0|\n",
      "|  6| 53|    own|     quite rich|              NA|         2835|      24|furniture/equipment|        0.0|\n",
      "|  7| 35|   rent|         little|        moderate|         6948|      36|                car|        0.0|\n",
      "|  8| 61|    own|           rich|              NA|         3059|      12|           radio/TV|        0.0|\n",
      "|  9| 28|    own|         little|        moderate|         5234|      30|                car|        1.0|\n",
      "| 10| 25|   rent|         little|        moderate|         1295|      12|                car|        1.0|\n",
      "| 11| 24|   rent|         little|          little|         4308|      48|           business|        1.0|\n",
      "| 12| 22|    own|         little|        moderate|         1567|      12|           radio/TV|        0.0|\n",
      "| 13| 60|    own|         little|          little|         1199|      24|                car|        1.0|\n",
      "| 14| 28|   rent|         little|          little|         1403|      15|                car|        0.0|\n",
      "| 15| 32|    own|       moderate|          little|         1282|      24|           radio/TV|        1.0|\n",
      "| 16| 53|    own|             NA|              NA|         2424|      24|           radio/TV|        0.0|\n",
      "| 17| 25|    own|             NA|          little|         8072|      30|           business|        0.0|\n",
      "| 18| 44|   free|         little|        moderate|        12579|      24|                car|        1.0|\n",
      "| 19| 31|    own|     quite rich|              NA|         3430|      24|           radio/TV|        0.0|\n",
      "+---+---+-------+---------------+----------------+-------------+--------+-------------------+-----------+\n",
      "only showing top 20 rows\n",
      "\n"
     ]
    }
   ],
   "source": [
    "encoder = StringIndexer(inputCol='Risk', outputCol='Binary_Risk')\n",
    "df = encoder.fit(df).transform(df)\n",
    "df = df.drop('Risk')\n",
    "df.show()"
   ]
  },
  {
   "cell_type": "markdown",
   "metadata": {},
   "source": [
    "Vectorisation of entire data"
   ]
  },
  {
   "cell_type": "code",
   "execution_count": 10,
   "metadata": {},
   "outputs": [
    {
     "name": "stdout",
     "output_type": "stream",
     "text": [
      "+---+-----------+---------------+-------------+-----------------+--------------+------------+----------------+-----------+----------+--------------+---------+\n",
      "| ID|Binary_Risk|Checking_little|Checking_null|Checking_moderate|Savings_little|Savings_null|Purpose_radio/TV|Housing_own|Credit_big|Duration_short|Age_young|\n",
      "+---+-----------+---------------+-------------+-----------------+--------------+------------+----------------+-----------+----------+--------------+---------+\n",
      "|  0|        0.0|              1|          0.0|                0|             0|           0|               1|          1|         0|             1|        0|\n",
      "|  1|        1.0|              0|          0.0|                1|             1|           1|               1|          1|         0|             0|        1|\n",
      "|  2|        0.0|              0|          1.0|                0|             1|           1|               0|          1|         0|             0|        0|\n",
      "|  3|        0.0|              1|          0.0|                0|             1|           1|               0|          0|         0|             0|        0|\n",
      "|  4|        1.0|              1|          0.0|                0|             1|           1|               0|          0|         0|             0|        0|\n",
      "|  5|        0.0|              0|          1.0|                0|             0|           0|               0|          0|         0|             0|        0|\n",
      "|  6|        0.0|              0|          1.0|                0|             0|           0|               0|          1|         0|             0|        0|\n",
      "|  7|        0.0|              0|          0.0|                1|             1|           1|               0|          0|         0|             0|        0|\n",
      "|  8|        0.0|              0|          1.0|                0|             0|           0|               1|          1|         0|             0|        0|\n",
      "|  9|        1.0|              0|          0.0|                1|             1|           1|               0|          1|         0|             0|        0|\n",
      "| 10|        1.0|              0|          0.0|                1|             1|           1|               0|          0|         0|             0|        1|\n",
      "| 11|        1.0|              1|          0.0|                0|             1|           1|               0|          0|         0|             0|        1|\n",
      "| 12|        0.0|              0|          0.0|                1|             1|           1|               1|          1|         0|             0|        1|\n",
      "| 13|        1.0|              1|          0.0|                0|             1|           1|               0|          1|         0|             0|        0|\n",
      "| 14|        0.0|              1|          0.0|                0|             1|           1|               0|          0|         0|             0|        0|\n",
      "| 15|        1.0|              1|          0.0|                0|             0|           0|               1|          1|         0|             0|        0|\n",
      "| 16|        0.0|              0|          1.0|                0|             0|           0|               1|          1|         0|             0|        0|\n",
      "| 17|        0.0|              1|          0.0|                0|             0|           0|               0|          1|         0|             0|        1|\n",
      "| 18|        1.0|              0|          0.0|                1|             1|           1|               0|          0|         1|             0|        0|\n",
      "| 19|        0.0|              0|          1.0|                0|             0|           0|               1|          1|         0|             0|        0|\n",
      "+---+-----------+---------------+-------------+-----------------+--------------+------------+----------------+-----------+----------+--------------+---------+\n",
      "only showing top 20 rows\n",
      "\n"
     ]
    }
   ],
   "source": [
    "df = df.withColumn('Checking_little', f.when(f.col('Checking account') == \"little\", 1).otherwise(0))\n",
    "df = df.withColumn('Checking_null', f.when(f.col('Checking account') == \"NA\", 1.0).otherwise(0))\n",
    "df = df.withColumn('Checking_moderate', f.when(f.col('Checking account') == \"moderate\", 1).otherwise(0))\n",
    "df = df.withColumn('Savings_little', f.when(f.col('Saving accounts') == \"little\", 1).otherwise(0))\n",
    "df = df.withColumn('Savings_null', f.when(f.col('Saving accounts') == \"little\", 1).otherwise(0))\n",
    "df = df.withColumn('Purpose_radio/TV', f.when(f.col('Purpose') == \"radio/TV\", 1).otherwise(0))\n",
    "df = df.withColumn('Housing_own', f.when(f.col('Housing') == \"own\", 1).otherwise(0))\n",
    "df = df.withColumn('Credit_big', f.when(f.col('Credit amount') > 10000, 1).otherwise(0))\n",
    "df = df.withColumn('Duration_short', f.when(f.col('Duration') < 12, 1).otherwise(0))\n",
    "df = df.withColumn('Age_young', f.when(f.col('Age') < 27, 1).otherwise(0)) \n",
    "\n",
    "df = df.drop('Age', 'Housing', 'Saving accounts', 'Checking account', 'Credit amount', 'Duration', 'Purpose')\n",
    "df.show()"
   ]
  },
  {
   "cell_type": "code",
   "execution_count": 11,
   "metadata": {},
   "outputs": [
    {
     "data": {
      "text/plain": [
       "['Checking_little',\n",
       " 'Checking_null',\n",
       " 'Checking_moderate',\n",
       " 'Savings_little',\n",
       " 'Savings_null',\n",
       " 'Purpose_radio/TV',\n",
       " 'Housing_own',\n",
       " 'Credit_big',\n",
       " 'Duration_short',\n",
       " 'Age_young']"
      ]
     },
     "execution_count": 11,
     "metadata": {},
     "output_type": "execute_result"
    }
   ],
   "source": [
    "# Defining features\n",
    "features = df.columns\n",
    "features = features[2:]\n",
    "features"
   ]
  },
  {
   "cell_type": "code",
   "execution_count": 13,
   "metadata": {},
   "outputs": [
    {
     "name": "stdout",
     "output_type": "stream",
     "text": [
      "Finished constructing the pipeline\n"
     ]
    },
    {
     "data": {
      "text/plain": [
       "StructType(List(StructField(ID,IntegerType,true),StructField(Binary_Risk,DoubleType,true),StructField(Checking_little,IntegerType,false),StructField(Checking_null,DoubleType,false),StructField(Checking_moderate,IntegerType,false),StructField(Savings_little,IntegerType,false),StructField(Savings_null,IntegerType,false),StructField(Purpose_radio/TV,IntegerType,false),StructField(Housing_own,IntegerType,false),StructField(Credit_big,IntegerType,false),StructField(Duration_short,IntegerType,false),StructField(Age_young,IntegerType,false)))"
      ]
     },
     "execution_count": 13,
     "metadata": {},
     "output_type": "execute_result"
    }
   ],
   "source": [
    "# Feature pipeline\n",
    "continuous_feature_assembler = VectorAssembler(inputCols=features, outputCol=\"all_features\")\n",
    "featurePipeline = Pipeline(stages=[continuous_feature_assembler])\n",
    "sparkFeaturePipelineModel = featurePipeline.fit(df)\n",
    "print(\"Finished constructing the pipeline\")\n",
    "df.schema"
   ]
  },
  {
   "cell_type": "code",
   "execution_count": 22,
   "metadata": {},
   "outputs": [
    {
     "name": "stdout",
     "output_type": "stream",
     "text": [
      "Complete: Training Decision Tree\n"
     ]
    }
   ],
   "source": [
    "# Train a Decision Tree Model\n",
    "# Create model\n",
    "dt = DecisionTreeClassifier(featuresCol=\"all_features\", labelCol=\"Binary_Risk\")\n",
    "pipeline_dt = [sparkFeaturePipelineModel] + [dt]\n",
    "sparkPipelineEstimatordt = Pipeline(stages = pipeline_dt)\n",
    "sparkPipelinedt = sparkPipelineEstimatordt.fit(df)\n",
    "print(\"Complete: Training Decision Tree\")"
   ]
  },
  {
   "cell_type": "code",
   "execution_count": 23,
   "metadata": {},
   "outputs": [
    {
     "name": "stdout",
     "output_type": "stream",
     "text": [
      "{\"message\":\"Model 'an-decisiontree-model' correctly uploaded.\"}\n"
     ]
    }
   ],
   "source": [
    "# saving pipeline\n",
    "%savePipeline   --pipelineName an-decisiontree-model \\\n",
    "                --pipelineModelObject sparkPipelinedt \\\n",
    "                --dataframe df \\\n",
    "                --description \"Decision Tree model for predicting risk probability\""
   ]
  },
  {
   "cell_type": "code",
   "execution_count": 24,
   "metadata": {},
   "outputs": [
    {
     "name": "stdout",
     "output_type": "stream",
     "text": [
      "Model 'an-decisiontree-model' correctly deployed from repository.\n"
     ]
    }
   ],
   "source": [
    "# deploy model\n",
    "%deployPipeline --pipelineName an-decisiontree-model"
   ]
  },
  {
   "cell_type": "code",
   "execution_count": null,
   "metadata": {},
   "outputs": [],
   "source": []
  }
 ],
 "metadata": {
  "kernelspec": {
   "display_name": "PySpark Python3 - Spark 2.2.0",
   "language": "python",
   "name": "spark2python3"
  },
  "language_info": {
   "codemirror_mode": {
    "name": "ipython",
    "version": 3
   },
   "file_extension": ".py",
   "mimetype": "text/x-python",
   "name": "python",
   "nbconvert_exporter": "python",
   "pygments_lexer": "ipython3",
   "version": "3.5.2"
  }
 },
 "nbformat": 4,
 "nbformat_minor": 2
}
