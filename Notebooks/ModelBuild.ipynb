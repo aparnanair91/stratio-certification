{
 "cells": [
  {
   "cell_type": "code",
   "execution_count": 104,
   "metadata": {},
   "outputs": [],
   "source": [
    "# Data managing\n",
    "import pandas as pd\n",
    "import numpy as np\n",
    "\n",
    "# Preprocesing\n",
    "from sklearn.pipeline import Pipeline\n",
    "\n",
    "# Evaluation\n",
    "from sklearn.model_selection import cross_validate\n",
    "\n",
    "# ML Algorithms\n",
    "from sklearn.tree import DecisionTreeClassifier\n",
    "\n",
    "# Visualization\n",
    "import seaborn as sns\n",
    "\n",
    "# Enable seeing plots within the notebook\n",
    "%matplotlib inline"
   ]
  },
  {
   "cell_type": "code",
   "execution_count": 105,
   "metadata": {},
   "outputs": [
    {
     "data": {
      "text/html": [
       "<div>\n",
       "<style scoped>\n",
       "    .dataframe tbody tr th:only-of-type {\n",
       "        vertical-align: middle;\n",
       "    }\n",
       "\n",
       "    .dataframe tbody tr th {\n",
       "        vertical-align: top;\n",
       "    }\n",
       "\n",
       "    .dataframe thead th {\n",
       "        text-align: right;\n",
       "    }\n",
       "</style>\n",
       "<table border=\"1\" class=\"dataframe\">\n",
       "  <thead>\n",
       "    <tr style=\"text-align: right;\">\n",
       "      <th></th>\n",
       "      <th>Id</th>\n",
       "      <th>Age</th>\n",
       "      <th>Sex</th>\n",
       "      <th>Job</th>\n",
       "      <th>Housing</th>\n",
       "      <th>Saving accounts</th>\n",
       "      <th>Checking account</th>\n",
       "      <th>Credit amount</th>\n",
       "      <th>Duration</th>\n",
       "      <th>Purpose</th>\n",
       "      <th>Risk</th>\n",
       "    </tr>\n",
       "  </thead>\n",
       "  <tbody>\n",
       "    <tr>\n",
       "      <th>0</th>\n",
       "      <td>0</td>\n",
       "      <td>67</td>\n",
       "      <td>male</td>\n",
       "      <td>2</td>\n",
       "      <td>own</td>\n",
       "      <td>NaN</td>\n",
       "      <td>little</td>\n",
       "      <td>1169</td>\n",
       "      <td>6</td>\n",
       "      <td>radio/TV</td>\n",
       "      <td>good</td>\n",
       "    </tr>\n",
       "    <tr>\n",
       "      <th>1</th>\n",
       "      <td>1</td>\n",
       "      <td>22</td>\n",
       "      <td>female</td>\n",
       "      <td>2</td>\n",
       "      <td>own</td>\n",
       "      <td>little</td>\n",
       "      <td>moderate</td>\n",
       "      <td>5951</td>\n",
       "      <td>48</td>\n",
       "      <td>radio/TV</td>\n",
       "      <td>bad</td>\n",
       "    </tr>\n",
       "    <tr>\n",
       "      <th>2</th>\n",
       "      <td>2</td>\n",
       "      <td>49</td>\n",
       "      <td>male</td>\n",
       "      <td>1</td>\n",
       "      <td>own</td>\n",
       "      <td>little</td>\n",
       "      <td>NaN</td>\n",
       "      <td>2096</td>\n",
       "      <td>12</td>\n",
       "      <td>education</td>\n",
       "      <td>good</td>\n",
       "    </tr>\n",
       "    <tr>\n",
       "      <th>3</th>\n",
       "      <td>3</td>\n",
       "      <td>45</td>\n",
       "      <td>male</td>\n",
       "      <td>2</td>\n",
       "      <td>free</td>\n",
       "      <td>little</td>\n",
       "      <td>little</td>\n",
       "      <td>7882</td>\n",
       "      <td>42</td>\n",
       "      <td>furniture/equipment</td>\n",
       "      <td>good</td>\n",
       "    </tr>\n",
       "    <tr>\n",
       "      <th>4</th>\n",
       "      <td>4</td>\n",
       "      <td>53</td>\n",
       "      <td>male</td>\n",
       "      <td>2</td>\n",
       "      <td>free</td>\n",
       "      <td>little</td>\n",
       "      <td>little</td>\n",
       "      <td>4870</td>\n",
       "      <td>24</td>\n",
       "      <td>car</td>\n",
       "      <td>bad</td>\n",
       "    </tr>\n",
       "  </tbody>\n",
       "</table>\n",
       "</div>"
      ],
      "text/plain": [
       "   Id  Age     Sex  Job Housing Saving accounts Checking account  \\\n",
       "0   0   67    male    2     own             NaN           little   \n",
       "1   1   22  female    2     own          little         moderate   \n",
       "2   2   49    male    1     own          little              NaN   \n",
       "3   3   45    male    2    free          little           little   \n",
       "4   4   53    male    2    free          little           little   \n",
       "\n",
       "   Credit amount  Duration              Purpose  Risk  \n",
       "0           1169         6             radio/TV  good  \n",
       "1           5951        48             radio/TV   bad  \n",
       "2           2096        12            education  good  \n",
       "3           7882        42  furniture/equipment  good  \n",
       "4           4870        24                  car   bad  "
      ]
     },
     "execution_count": 105,
     "metadata": {},
     "output_type": "execute_result"
    }
   ],
   "source": [
    "df = pd.read_csv('Input/germanCreditList.csv')\n",
    "df.head()"
   ]
  },
  {
   "cell_type": "code",
   "execution_count": 106,
   "metadata": {},
   "outputs": [
    {
     "name": "stdout",
     "output_type": "stream",
     "text": [
      "<class 'pandas.core.frame.DataFrame'>\n",
      "RangeIndex: 1000 entries, 0 to 999\n",
      "Data columns (total 11 columns):\n",
      "Id                  1000 non-null int64\n",
      "Age                 1000 non-null int64\n",
      "Sex                 1000 non-null object\n",
      "Job                 1000 non-null int64\n",
      "Housing             1000 non-null object\n",
      "Saving accounts     817 non-null object\n",
      "Checking account    606 non-null object\n",
      "Credit amount       1000 non-null int64\n",
      "Duration            1000 non-null int64\n",
      "Purpose             1000 non-null object\n",
      "Risk                1000 non-null object\n",
      "dtypes: int64(5), object(6)\n",
      "memory usage: 86.0+ KB\n"
     ]
    }
   ],
   "source": [
    "df.info()"
   ]
  },
  {
   "cell_type": "markdown",
   "metadata": {},
   "source": [
    "DATA EXPLODING"
   ]
  },
  {
   "cell_type": "code",
   "execution_count": 107,
   "metadata": {},
   "outputs": [
    {
     "data": {
      "text/plain": [
       "False"
      ]
     },
     "execution_count": 107,
     "metadata": {},
     "output_type": "execute_result"
    }
   ],
   "source": [
    "df['Risk'].isnull().any()"
   ]
  },
  {
   "cell_type": "code",
   "execution_count": 108,
   "metadata": {},
   "outputs": [
    {
     "data": {
      "text/plain": [
       "good    700\n",
       "bad     300\n",
       "Name: Risk, dtype: int64"
      ]
     },
     "execution_count": 108,
     "metadata": {},
     "output_type": "execute_result"
    }
   ],
   "source": [
    "df['Risk'].value_counts()"
   ]
  },
  {
   "cell_type": "markdown",
   "metadata": {},
   "source": [
    "TARGET mapping : Risk [good mapped to 0 and bad mapped to 1]"
   ]
  },
  {
   "cell_type": "code",
   "execution_count": 109,
   "metadata": {},
   "outputs": [
    {
     "data": {
      "text/html": [
       "<div>\n",
       "<style scoped>\n",
       "    .dataframe tbody tr th:only-of-type {\n",
       "        vertical-align: middle;\n",
       "    }\n",
       "\n",
       "    .dataframe tbody tr th {\n",
       "        vertical-align: top;\n",
       "    }\n",
       "\n",
       "    .dataframe thead th {\n",
       "        text-align: right;\n",
       "    }\n",
       "</style>\n",
       "<table border=\"1\" class=\"dataframe\">\n",
       "  <thead>\n",
       "    <tr style=\"text-align: right;\">\n",
       "      <th></th>\n",
       "      <th>Id</th>\n",
       "      <th>Age</th>\n",
       "      <th>Sex</th>\n",
       "      <th>Job</th>\n",
       "      <th>Housing</th>\n",
       "      <th>Saving accounts</th>\n",
       "      <th>Checking account</th>\n",
       "      <th>Credit amount</th>\n",
       "      <th>Duration</th>\n",
       "      <th>Purpose</th>\n",
       "      <th>Risk</th>\n",
       "    </tr>\n",
       "  </thead>\n",
       "  <tbody>\n",
       "    <tr>\n",
       "      <th>0</th>\n",
       "      <td>0</td>\n",
       "      <td>67</td>\n",
       "      <td>male</td>\n",
       "      <td>2</td>\n",
       "      <td>own</td>\n",
       "      <td>NaN</td>\n",
       "      <td>little</td>\n",
       "      <td>1169</td>\n",
       "      <td>6</td>\n",
       "      <td>radio/TV</td>\n",
       "      <td>0</td>\n",
       "    </tr>\n",
       "    <tr>\n",
       "      <th>1</th>\n",
       "      <td>1</td>\n",
       "      <td>22</td>\n",
       "      <td>female</td>\n",
       "      <td>2</td>\n",
       "      <td>own</td>\n",
       "      <td>little</td>\n",
       "      <td>moderate</td>\n",
       "      <td>5951</td>\n",
       "      <td>48</td>\n",
       "      <td>radio/TV</td>\n",
       "      <td>1</td>\n",
       "    </tr>\n",
       "    <tr>\n",
       "      <th>2</th>\n",
       "      <td>2</td>\n",
       "      <td>49</td>\n",
       "      <td>male</td>\n",
       "      <td>1</td>\n",
       "      <td>own</td>\n",
       "      <td>little</td>\n",
       "      <td>NaN</td>\n",
       "      <td>2096</td>\n",
       "      <td>12</td>\n",
       "      <td>education</td>\n",
       "      <td>0</td>\n",
       "    </tr>\n",
       "    <tr>\n",
       "      <th>3</th>\n",
       "      <td>3</td>\n",
       "      <td>45</td>\n",
       "      <td>male</td>\n",
       "      <td>2</td>\n",
       "      <td>free</td>\n",
       "      <td>little</td>\n",
       "      <td>little</td>\n",
       "      <td>7882</td>\n",
       "      <td>42</td>\n",
       "      <td>furniture/equipment</td>\n",
       "      <td>0</td>\n",
       "    </tr>\n",
       "    <tr>\n",
       "      <th>4</th>\n",
       "      <td>4</td>\n",
       "      <td>53</td>\n",
       "      <td>male</td>\n",
       "      <td>2</td>\n",
       "      <td>free</td>\n",
       "      <td>little</td>\n",
       "      <td>little</td>\n",
       "      <td>4870</td>\n",
       "      <td>24</td>\n",
       "      <td>car</td>\n",
       "      <td>1</td>\n",
       "    </tr>\n",
       "  </tbody>\n",
       "</table>\n",
       "</div>"
      ],
      "text/plain": [
       "   Id  Age     Sex  Job Housing Saving accounts Checking account  \\\n",
       "0   0   67    male    2     own             NaN           little   \n",
       "1   1   22  female    2     own          little         moderate   \n",
       "2   2   49    male    1     own          little              NaN   \n",
       "3   3   45    male    2    free          little           little   \n",
       "4   4   53    male    2    free          little           little   \n",
       "\n",
       "   Credit amount  Duration              Purpose  Risk  \n",
       "0           1169         6             radio/TV     0  \n",
       "1           5951        48             radio/TV     1  \n",
       "2           2096        12            education     0  \n",
       "3           7882        42  furniture/equipment     0  \n",
       "4           4870        24                  car     1  "
      ]
     },
     "execution_count": 109,
     "metadata": {},
     "output_type": "execute_result"
    }
   ],
   "source": [
    "df.loc[df['Risk'] == 'good', 'Risk'] = 0\n",
    "df.loc[df['Risk'] == 'bad', 'Risk'] = 1\n",
    "df['Risk'] = df['Risk'].astype(int)\n",
    "\n",
    "df.head()"
   ]
  },
  {
   "cell_type": "code",
   "execution_count": 102,
   "metadata": {},
   "outputs": [
    {
     "data": {
      "text/html": [
       "<div>\n",
       "<style scoped>\n",
       "    .dataframe tbody tr th:only-of-type {\n",
       "        vertical-align: middle;\n",
       "    }\n",
       "\n",
       "    .dataframe tbody tr th {\n",
       "        vertical-align: top;\n",
       "    }\n",
       "\n",
       "    .dataframe thead th {\n",
       "        text-align: right;\n",
       "    }\n",
       "</style>\n",
       "<table border=\"1\" class=\"dataframe\">\n",
       "  <thead>\n",
       "    <tr style=\"text-align: right;\">\n",
       "      <th></th>\n",
       "      <th>Checking_little</th>\n",
       "      <th>Checking_moderate</th>\n",
       "      <th>Checking_null</th>\n",
       "      <th>Checking_rich</th>\n",
       "      <th>Savings_little</th>\n",
       "      <th>Savings_moderate</th>\n",
       "      <th>Savings_null</th>\n",
       "      <th>Savings_quite rich</th>\n",
       "      <th>Savings_rich</th>\n",
       "      <th>Purpose_business</th>\n",
       "      <th>...</th>\n",
       "      <th>Risk</th>\n",
       "      <th>Credit_small</th>\n",
       "      <th>Credit_med</th>\n",
       "      <th>Credit_big</th>\n",
       "      <th>Duration_short</th>\n",
       "      <th>Duration_med</th>\n",
       "      <th>Duration_long</th>\n",
       "      <th>Age_young</th>\n",
       "      <th>Age_adult</th>\n",
       "      <th>Age_old</th>\n",
       "    </tr>\n",
       "    <tr>\n",
       "      <th>Sex</th>\n",
       "      <th></th>\n",
       "      <th></th>\n",
       "      <th></th>\n",
       "      <th></th>\n",
       "      <th></th>\n",
       "      <th></th>\n",
       "      <th></th>\n",
       "      <th></th>\n",
       "      <th></th>\n",
       "      <th></th>\n",
       "      <th></th>\n",
       "      <th></th>\n",
       "      <th></th>\n",
       "      <th></th>\n",
       "      <th></th>\n",
       "      <th></th>\n",
       "      <th></th>\n",
       "      <th></th>\n",
       "      <th></th>\n",
       "      <th></th>\n",
       "      <th></th>\n",
       "    </tr>\n",
       "  </thead>\n",
       "  <tbody>\n",
       "    <tr>\n",
       "      <th>female</th>\n",
       "      <td>0.283871</td>\n",
       "      <td>0.277419</td>\n",
       "      <td>0.374194</td>\n",
       "      <td>0.064516</td>\n",
       "      <td>0.625806</td>\n",
       "      <td>0.103226</td>\n",
       "      <td>0.158065</td>\n",
       "      <td>0.051613</td>\n",
       "      <td>0.061290</td>\n",
       "      <td>0.061290</td>\n",
       "      <td>...</td>\n",
       "      <td>0.351613</td>\n",
       "      <td>0.306452</td>\n",
       "      <td>0.664516</td>\n",
       "      <td>0.029032</td>\n",
       "      <td>0.190323</td>\n",
       "      <td>0.641935</td>\n",
       "      <td>0.167742</td>\n",
       "      <td>0.403226</td>\n",
       "      <td>0.477419</td>\n",
       "      <td>0.119355</td>\n",
       "    </tr>\n",
       "    <tr>\n",
       "      <th>male</th>\n",
       "      <td>0.269565</td>\n",
       "      <td>0.265217</td>\n",
       "      <td>0.402899</td>\n",
       "      <td>0.062319</td>\n",
       "      <td>0.592754</td>\n",
       "      <td>0.102899</td>\n",
       "      <td>0.194203</td>\n",
       "      <td>0.068116</td>\n",
       "      <td>0.042029</td>\n",
       "      <td>0.113043</td>\n",
       "      <td>...</td>\n",
       "      <td>0.276812</td>\n",
       "      <td>0.224638</td>\n",
       "      <td>0.730435</td>\n",
       "      <td>0.044928</td>\n",
       "      <td>0.175362</td>\n",
       "      <td>0.591304</td>\n",
       "      <td>0.233333</td>\n",
       "      <td>0.166667</td>\n",
       "      <td>0.705797</td>\n",
       "      <td>0.127536</td>\n",
       "    </tr>\n",
       "  </tbody>\n",
       "</table>\n",
       "<p>2 rows × 39 columns</p>\n",
       "</div>"
      ],
      "text/plain": [
       "        Checking_little  Checking_moderate  Checking_null  Checking_rich  \\\n",
       "Sex                                                                        \n",
       "female         0.283871           0.277419       0.374194       0.064516   \n",
       "male           0.269565           0.265217       0.402899       0.062319   \n",
       "\n",
       "        Savings_little  Savings_moderate  Savings_null  Savings_quite rich  \\\n",
       "Sex                                                                          \n",
       "female        0.625806          0.103226      0.158065            0.051613   \n",
       "male          0.592754          0.102899      0.194203            0.068116   \n",
       "\n",
       "        Savings_rich  Purpose_business    ...         Risk  Credit_small  \\\n",
       "Sex                                       ...                              \n",
       "female      0.061290          0.061290    ...     0.351613      0.306452   \n",
       "male        0.042029          0.113043    ...     0.276812      0.224638   \n",
       "\n",
       "        Credit_med  Credit_big  Duration_short  Duration_med  Duration_long  \\\n",
       "Sex                                                                           \n",
       "female    0.664516    0.029032        0.190323      0.641935       0.167742   \n",
       "male      0.730435    0.044928        0.175362      0.591304       0.233333   \n",
       "\n",
       "        Age_young  Age_adult   Age_old  \n",
       "Sex                                     \n",
       "female   0.403226   0.477419  0.119355  \n",
       "male     0.166667   0.705797  0.127536  \n",
       "\n",
       "[2 rows x 39 columns]"
      ]
     },
     "execution_count": 102,
     "metadata": {},
     "output_type": "execute_result"
    }
   ],
   "source": [
    "df.groupby('Sex').mean()"
   ]
  },
  {
   "cell_type": "code",
   "execution_count": 110,
   "metadata": {},
   "outputs": [
    {
     "data": {
      "text/plain": [
       "array(['male', 'female'], dtype=object)"
      ]
     },
     "execution_count": 110,
     "metadata": {},
     "output_type": "execute_result"
    }
   ],
   "source": [
    "df['Sex'].unique()"
   ]
  },
  {
   "cell_type": "code",
   "execution_count": 111,
   "metadata": {},
   "outputs": [
    {
     "data": {
      "text/plain": [
       "<matplotlib.axes._subplots.AxesSubplot at 0x7fbdea5c32e8>"
      ]
     },
     "execution_count": 111,
     "metadata": {},
     "output_type": "execute_result"
    },
    {
     "data": {
      "image/png": "[encoded data removed]",
      "text/plain": [
       "<Figure size 432x288 with 1 Axes>"
      ]
     },
     "metadata": {},
     "output_type": "display_data"
    }
   ],
   "source": [
    "df.groupby('Sex').mean()['Risk'].plot(kind='bar')"
   ]
  },
  {
   "cell_type": "code",
   "execution_count": 112,
   "metadata": {},
   "outputs": [
    {
     "data": {
      "text/plain": [
       "array(['own', 'free', 'rent'], dtype=object)"
      ]
     },
     "execution_count": 112,
     "metadata": {},
     "output_type": "execute_result"
    }
   ],
   "source": [
    "df['Housing'].unique()"
   ]
  },
  {
   "cell_type": "code",
   "execution_count": 113,
   "metadata": {},
   "outputs": [
    {
     "data": {
      "text/plain": [
       "Housing\n",
       "free    0.407407\n",
       "own     0.260870\n",
       "rent    0.391061\n",
       "Name: Risk, dtype: float64"
      ]
     },
     "execution_count": 113,
     "metadata": {},
     "output_type": "execute_result"
    }
   ],
   "source": [
    "df.groupby('Housing').mean()['Risk']"
   ]
  },
  {
   "cell_type": "code",
   "execution_count": 114,
   "metadata": {},
   "outputs": [
    {
     "data": {
      "text/plain": [
       "<matplotlib.axes._subplots.AxesSubplot at 0x7fbdebc9f780>"
      ]
     },
     "execution_count": 114,
     "metadata": {},
     "output_type": "execute_result"
    },
    {
     "data": {
      "image/png": "[encoded data removed]",
      "text/plain": [
       "<Figure size 432x288 with 1 Axes>"
      ]
     },
     "metadata": {},
     "output_type": "display_data"
    }
   ],
   "source": [
    "df.groupby('Housing').mean()['Risk'].plot(kind='bar')"
   ]
  },
  {
   "cell_type": "code",
   "execution_count": 115,
   "metadata": {},
   "outputs": [
    {
     "data": {
      "text/plain": [
       "array(['radio/TV', 'education', 'furniture/equipment', 'car', 'business',\n",
       "       'domestic appliances', 'repairs', 'vacation/others'], dtype=object)"
      ]
     },
     "execution_count": 115,
     "metadata": {},
     "output_type": "execute_result"
    }
   ],
   "source": [
    "df['Purpose'].unique()"
   ]
  },
  {
   "cell_type": "code",
   "execution_count": 116,
   "metadata": {},
   "outputs": [
    {
     "data": {
      "text/plain": [
       "Purpose\n",
       "business               0.350515\n",
       "car                    0.314540\n",
       "domestic appliances    0.333333\n",
       "education              0.389831\n",
       "furniture/equipment    0.320442\n",
       "radio/TV               0.221429\n",
       "repairs                0.363636\n",
       "vacation/others        0.416667\n",
       "Name: Risk, dtype: float64"
      ]
     },
     "execution_count": 116,
     "metadata": {},
     "output_type": "execute_result"
    }
   ],
   "source": [
    "df.groupby('Purpose').mean()['Risk']"
   ]
  },
  {
   "cell_type": "code",
   "execution_count": 117,
   "metadata": {},
   "outputs": [
    {
     "data": {
      "text/plain": [
       "<matplotlib.axes._subplots.AxesSubplot at 0x7fbdebcbf668>"
      ]
     },
     "execution_count": 117,
     "metadata": {},
     "output_type": "execute_result"
    },
    {
     "data": {
      "image/png": "[encoded data removed]",
      "text/plain": [
       "<Figure size 432x288 with 1 Axes>"
      ]
     },
     "metadata": {},
     "output_type": "display_data"
    }
   ],
   "source": [
    "df.groupby('Purpose').mean()['Risk'].plot(kind='bar')"
   ]
  },
  {
   "cell_type": "code",
   "execution_count": 118,
   "metadata": {},
   "outputs": [
    {
     "data": {
      "text/plain": [
       "array([nan, 'little', 'quite rich', 'rich', 'moderate'], dtype=object)"
      ]
     },
     "execution_count": 118,
     "metadata": {},
     "output_type": "execute_result"
    }
   ],
   "source": [
    "df['Saving accounts'].unique()"
   ]
  },
  {
   "cell_type": "code",
   "execution_count": 119,
   "metadata": {},
   "outputs": [],
   "source": [
    "df['Saving accounts'].fillna('null', inplace=True)"
   ]
  },
  {
   "cell_type": "code",
   "execution_count": 120,
   "metadata": {},
   "outputs": [
    {
     "data": {
      "text/plain": [
       "Saving accounts\n",
       "little        0.359867\n",
       "moderate      0.330097\n",
       "null          0.174863\n",
       "quite rich    0.174603\n",
       "rich          0.125000\n",
       "Name: Risk, dtype: float64"
      ]
     },
     "execution_count": 120,
     "metadata": {},
     "output_type": "execute_result"
    }
   ],
   "source": [
    "df.groupby('Saving accounts').mean()['Risk']"
   ]
  },
  {
   "cell_type": "code",
   "execution_count": 121,
   "metadata": {},
   "outputs": [
    {
     "data": {
      "text/plain": [
       "<matplotlib.axes._subplots.AxesSubplot at 0x7fbdebc83400>"
      ]
     },
     "execution_count": 121,
     "metadata": {},
     "output_type": "execute_result"
    },
    {
     "data": {
      "image/png": "[encoded data removed]",
      "text/plain": [
       "<Figure size 432x288 with 1 Axes>"
      ]
     },
     "metadata": {},
     "output_type": "display_data"
    }
   ],
   "source": [
    "df.groupby('Saving accounts').mean()['Risk'].plot(kind='bar')"
   ]
  },
  {
   "cell_type": "code",
   "execution_count": 122,
   "metadata": {},
   "outputs": [
    {
     "data": {
      "text/plain": [
       "array(['little', 'moderate', nan, 'rich'], dtype=object)"
      ]
     },
     "execution_count": 122,
     "metadata": {},
     "output_type": "execute_result"
    }
   ],
   "source": [
    "df['Checking account'].unique()"
   ]
  },
  {
   "cell_type": "code",
   "execution_count": 123,
   "metadata": {},
   "outputs": [],
   "source": [
    "df['Checking account'].fillna('null', inplace=True)"
   ]
  },
  {
   "cell_type": "code",
   "execution_count": 124,
   "metadata": {},
   "outputs": [
    {
     "data": {
      "text/plain": [
       "<matplotlib.axes._subplots.AxesSubplot at 0x7fbdebbdba20>"
      ]
     },
     "execution_count": 124,
     "metadata": {},
     "output_type": "execute_result"
    },
    {
     "data": {
      "image/png": "[encoded data removed]",
      "text/plain": [
       "<Figure size 432x288 with 1 Axes>"
      ]
     },
     "metadata": {},
     "output_type": "display_data"
    }
   ],
   "source": [
    "df.groupby('Checking account').mean()['Risk'].plot(kind='bar')"
   ]
  },
  {
   "cell_type": "markdown",
   "metadata": {},
   "source": [
    "Continous Value data exploration "
   ]
  },
  {
   "cell_type": "code",
   "execution_count": 125,
   "metadata": {},
   "outputs": [
    {
     "data": {
      "text/plain": [
       "<matplotlib.axes._subplots.AxesSubplot at 0x7fbdebb9ddd8>"
      ]
     },
     "execution_count": 125,
     "metadata": {},
     "output_type": "execute_result"
    },
    {
     "data": {
      "image/png": "[encoded data removed]",
      "text/plain": [
       "<Figure size 432x288 with 1 Axes>"
      ]
     },
     "metadata": {},
     "output_type": "display_data"
    }
   ],
   "source": [
    "df.groupby('Age').mean()['Risk'].plot()"
   ]
  },
  {
   "cell_type": "code",
   "execution_count": 126,
   "metadata": {},
   "outputs": [
    {
     "data": {
      "text/plain": [
       "<matplotlib.axes._subplots.AxesSubplot at 0x7fbdebb54470>"
      ]
     },
     "execution_count": 126,
     "metadata": {},
     "output_type": "execute_result"
    },
    {
     "data": {
      "image/png": "[encoded data removed]",
      "text/plain": [
       "<Figure size 432x288 with 1 Axes>"
      ]
     },
     "metadata": {},
     "output_type": "display_data"
    }
   ],
   "source": [
    "sns.boxplot(x=\"Risk\", y=\"Age\", data=df)"
   ]
  },
  {
   "cell_type": "code",
   "execution_count": 127,
   "metadata": {},
   "outputs": [
    {
     "data": {
      "text/plain": [
       "<matplotlib.axes._subplots.AxesSubplot at 0x7fbdebb1a240>"
      ]
     },
     "execution_count": 127,
     "metadata": {},
     "output_type": "execute_result"
    },
    {
     "data": {
      "image/png": "[encoded data removed]",
      "text/plain": [
       "<Figure size 432x288 with 1 Axes>"
      ]
     },
     "metadata": {},
     "output_type": "display_data"
    }
   ],
   "source": [
    "df.groupby('Credit amount').mean()['Risk'].plot()"
   ]
  },
  {
   "cell_type": "code",
   "execution_count": 128,
   "metadata": {},
   "outputs": [
    {
     "data": {
      "text/plain": [
       "<matplotlib.axes._subplots.AxesSubplot at 0x7fbdebb4ef98>"
      ]
     },
     "execution_count": 128,
     "metadata": {},
     "output_type": "execute_result"
    },
    {
     "data": {
      "image/png": "[encoded data removed]",
      "text/plain": [
       "<Figure size 432x288 with 1 Axes>"
      ]
     },
     "metadata": {},
     "output_type": "display_data"
    }
   ],
   "source": [
    "sns.boxplot(x=\"Risk\", y=\"Credit amount\", data=df)"
   ]
  },
  {
   "cell_type": "code",
   "execution_count": 129,
   "metadata": {},
   "outputs": [
    {
     "data": {
      "text/plain": [
       "<matplotlib.axes._subplots.AxesSubplot at 0x7fbdeba9eb00>"
      ]
     },
     "execution_count": 129,
     "metadata": {},
     "output_type": "execute_result"
    },
    {
     "data": {
      "image/png": "[encoded data removed]",
      "text/plain": [
       "<Figure size 432x288 with 1 Axes>"
      ]
     },
     "metadata": {},
     "output_type": "display_data"
    }
   ],
   "source": [
    "df.groupby('Duration').mean()['Risk'].plot()"
   ]
  },
  {
   "cell_type": "code",
   "execution_count": 130,
   "metadata": {},
   "outputs": [
    {
     "data": {
      "text/plain": [
       "<matplotlib.axes._subplots.AxesSubplot at 0x7fbdeba48a90>"
      ]
     },
     "execution_count": 130,
     "metadata": {},
     "output_type": "execute_result"
    },
    {
     "data": {
      "image/png": "[encoded data removed]",
      "text/plain": [
       "<Figure size 432x288 with 1 Axes>"
      ]
     },
     "metadata": {},
     "output_type": "display_data"
    }
   ],
   "source": [
    "sns.boxplot(x=\"Risk\", y=\"Duration\", data=df)"
   ]
  },
  {
   "cell_type": "code",
   "execution_count": 132,
   "metadata": {},
   "outputs": [
    {
     "name": "stdout",
     "output_type": "stream",
     "text": [
      "386\n",
      "69\n",
      "151\n",
      "52\n",
      "42\n"
     ]
    }
   ],
   "source": [
    "df['Saving accounts'].fillna('null', inplace=True)\n",
    "lr_little = df[df['Risk'] == 0].groupby('Saving accounts').count()['Risk']['little']\n",
    "lr_moderate = df[df['Risk'] == 0].groupby('Saving accounts').count()['Risk']['moderate']\n",
    "lr_null = df[df['Risk'] == 0].groupby('Saving accounts').count()['Risk']['null']\n",
    "lr_quite_rich = df[df['Risk'] == 0].groupby('Saving accounts').count()['Risk']['quite rich']\n",
    "lr_rich = df[df['Risk'] == 0].groupby('Saving accounts').count()['Risk']['rich']\n",
    "print(lr_little)\n",
    "print(lr_moderate)\n",
    "print(lr_null)\n",
    "print(lr_quite_rich)\n",
    "print(lr_rich)"
   ]
  },
  {
   "cell_type": "code",
   "execution_count": 133,
   "metadata": {},
   "outputs": [
    {
     "name": "stdout",
     "output_type": "stream",
     "text": [
      "139\n",
      "164\n",
      "348\n",
      "49\n"
     ]
    }
   ],
   "source": [
    "df['Checking account'].fillna('null', inplace=True)\n",
    "lr_little = df[df['Risk'] == 0].groupby('Checking account').count()['Risk']['little']\n",
    "lr_moderate = df[df['Risk'] == 0].groupby('Checking account').count()['Risk']['moderate']\n",
    "lr_null = df[df['Risk'] == 0].groupby('Checking account').count()['Risk']['null']\n",
    "lr_rich = df[df['Risk'] == 0].groupby('Checking account').count()['Risk']['rich']\n",
    "print(lr_little)\n",
    "print(lr_moderate)\n",
    "print(lr_null)\n",
    "print(lr_rich)"
   ]
  },
  {
   "cell_type": "markdown",
   "metadata": {},
   "source": [
    "VECTORISATION BASED ON DATA EXPLORATION"
   ]
  },
  {
   "cell_type": "markdown",
   "metadata": {},
   "source": [
    "INT fields : Age , Credit amount, Duration"
   ]
  },
  {
   "cell_type": "code",
   "execution_count": 131,
   "metadata": {},
   "outputs": [
    {
     "data": {
      "text/html": [
       "<div>\n",
       "<style scoped>\n",
       "    .dataframe tbody tr th:only-of-type {\n",
       "        vertical-align: middle;\n",
       "    }\n",
       "\n",
       "    .dataframe tbody tr th {\n",
       "        vertical-align: top;\n",
       "    }\n",
       "\n",
       "    .dataframe thead th {\n",
       "        text-align: right;\n",
       "    }\n",
       "</style>\n",
       "<table border=\"1\" class=\"dataframe\">\n",
       "  <thead>\n",
       "    <tr style=\"text-align: right;\">\n",
       "      <th></th>\n",
       "      <th>Id</th>\n",
       "      <th>Age</th>\n",
       "      <th>Sex</th>\n",
       "      <th>Job</th>\n",
       "      <th>Housing</th>\n",
       "      <th>Saving accounts</th>\n",
       "      <th>Checking account</th>\n",
       "      <th>Credit amount</th>\n",
       "      <th>Duration</th>\n",
       "      <th>Purpose</th>\n",
       "      <th>Risk</th>\n",
       "      <th>Credit_small</th>\n",
       "      <th>Credit_med</th>\n",
       "      <th>Credit_big</th>\n",
       "      <th>Duration_short</th>\n",
       "      <th>Duration_med</th>\n",
       "      <th>Duration_long</th>\n",
       "      <th>Age_young</th>\n",
       "      <th>Age_adult</th>\n",
       "      <th>Age_old</th>\n",
       "    </tr>\n",
       "  </thead>\n",
       "  <tbody>\n",
       "    <tr>\n",
       "      <th>0</th>\n",
       "      <td>0</td>\n",
       "      <td>67</td>\n",
       "      <td>male</td>\n",
       "      <td>2</td>\n",
       "      <td>own</td>\n",
       "      <td>null</td>\n",
       "      <td>little</td>\n",
       "      <td>1169</td>\n",
       "      <td>6</td>\n",
       "      <td>radio/TV</td>\n",
       "      <td>0</td>\n",
       "      <td>1</td>\n",
       "      <td>0</td>\n",
       "      <td>0</td>\n",
       "      <td>1</td>\n",
       "      <td>0</td>\n",
       "      <td>0</td>\n",
       "      <td>0</td>\n",
       "      <td>0</td>\n",
       "      <td>1</td>\n",
       "    </tr>\n",
       "    <tr>\n",
       "      <th>1</th>\n",
       "      <td>1</td>\n",
       "      <td>22</td>\n",
       "      <td>female</td>\n",
       "      <td>2</td>\n",
       "      <td>own</td>\n",
       "      <td>little</td>\n",
       "      <td>moderate</td>\n",
       "      <td>5951</td>\n",
       "      <td>48</td>\n",
       "      <td>radio/TV</td>\n",
       "      <td>1</td>\n",
       "      <td>0</td>\n",
       "      <td>1</td>\n",
       "      <td>0</td>\n",
       "      <td>0</td>\n",
       "      <td>0</td>\n",
       "      <td>1</td>\n",
       "      <td>1</td>\n",
       "      <td>0</td>\n",
       "      <td>0</td>\n",
       "    </tr>\n",
       "    <tr>\n",
       "      <th>2</th>\n",
       "      <td>2</td>\n",
       "      <td>49</td>\n",
       "      <td>male</td>\n",
       "      <td>1</td>\n",
       "      <td>own</td>\n",
       "      <td>little</td>\n",
       "      <td>null</td>\n",
       "      <td>2096</td>\n",
       "      <td>12</td>\n",
       "      <td>education</td>\n",
       "      <td>0</td>\n",
       "      <td>0</td>\n",
       "      <td>1</td>\n",
       "      <td>0</td>\n",
       "      <td>0</td>\n",
       "      <td>1</td>\n",
       "      <td>0</td>\n",
       "      <td>0</td>\n",
       "      <td>1</td>\n",
       "      <td>0</td>\n",
       "    </tr>\n",
       "    <tr>\n",
       "      <th>3</th>\n",
       "      <td>3</td>\n",
       "      <td>45</td>\n",
       "      <td>male</td>\n",
       "      <td>2</td>\n",
       "      <td>free</td>\n",
       "      <td>little</td>\n",
       "      <td>little</td>\n",
       "      <td>7882</td>\n",
       "      <td>42</td>\n",
       "      <td>furniture/equipment</td>\n",
       "      <td>0</td>\n",
       "      <td>0</td>\n",
       "      <td>1</td>\n",
       "      <td>0</td>\n",
       "      <td>0</td>\n",
       "      <td>0</td>\n",
       "      <td>1</td>\n",
       "      <td>0</td>\n",
       "      <td>1</td>\n",
       "      <td>0</td>\n",
       "    </tr>\n",
       "    <tr>\n",
       "      <th>4</th>\n",
       "      <td>4</td>\n",
       "      <td>53</td>\n",
       "      <td>male</td>\n",
       "      <td>2</td>\n",
       "      <td>free</td>\n",
       "      <td>little</td>\n",
       "      <td>little</td>\n",
       "      <td>4870</td>\n",
       "      <td>24</td>\n",
       "      <td>car</td>\n",
       "      <td>1</td>\n",
       "      <td>0</td>\n",
       "      <td>1</td>\n",
       "      <td>0</td>\n",
       "      <td>0</td>\n",
       "      <td>1</td>\n",
       "      <td>0</td>\n",
       "      <td>0</td>\n",
       "      <td>0</td>\n",
       "      <td>1</td>\n",
       "    </tr>\n",
       "  </tbody>\n",
       "</table>\n",
       "</div>"
      ],
      "text/plain": [
       "   Id  Age     Sex  Job Housing Saving accounts Checking account  \\\n",
       "0   0   67    male    2     own            null           little   \n",
       "1   1   22  female    2     own          little         moderate   \n",
       "2   2   49    male    1     own          little             null   \n",
       "3   3   45    male    2    free          little           little   \n",
       "4   4   53    male    2    free          little           little   \n",
       "\n",
       "   Credit amount  Duration              Purpose  Risk  Credit_small  \\\n",
       "0           1169         6             radio/TV     0             1   \n",
       "1           5951        48             radio/TV     1             0   \n",
       "2           2096        12            education     0             0   \n",
       "3           7882        42  furniture/equipment     0             0   \n",
       "4           4870        24                  car     1             0   \n",
       "\n",
       "   Credit_med  Credit_big  Duration_short  Duration_med  Duration_long  \\\n",
       "0           0           0               1             0              0   \n",
       "1           1           0               0             0              1   \n",
       "2           1           0               0             1              0   \n",
       "3           1           0               0             0              1   \n",
       "4           1           0               0             1              0   \n",
       "\n",
       "   Age_young  Age_adult  Age_old  \n",
       "0          0          0        1  \n",
       "1          1          0        0  \n",
       "2          0          1        0  \n",
       "3          0          1        0  \n",
       "4          0          0        1  "
      ]
     },
     "execution_count": 131,
     "metadata": {},
     "output_type": "execute_result"
    }
   ],
   "source": [
    "df['Credit_small'] = np.zeros(1000, dtype=int)\n",
    "df['Credit_med'] = np.zeros(1000, dtype=int)\n",
    "df['Credit_big'] = np.zeros(1000, dtype=int)\n",
    "df.loc[df['Credit amount'] < 1365.5, 'Credit_small'] = 1\n",
    "df.loc[(df['Credit amount'] >= 1365.5) & (df['Credit amount'] < 10000), 'Credit_med'] = 1\n",
    "df.loc[df['Credit amount'] >= 10000, 'Credit_big'] = 1\n",
    "\n",
    "df['Duration_short'] = np.zeros(1000, dtype=int)\n",
    "df['Duration_med'] = np.zeros(1000, dtype=int)\n",
    "df['Duration_long'] = np.zeros(1000, dtype=int)\n",
    "df.loc[df['Duration'] < 12, 'Duration_short'] = 1\n",
    "df.loc[(df['Duration'] >= 12) & (df['Duration'] < 30), 'Duration_med'] = 1\n",
    "df.loc[df['Duration'] >= 30, 'Duration_long'] = 1\n",
    "\n",
    "df['Age_young'] = np.zeros(1000, dtype=int)\n",
    "df['Age_adult'] = np.zeros(1000, dtype=int)\n",
    "df['Age_old'] = np.zeros(1000, dtype=int)\n",
    "df.loc[df['Age'] < 27, 'Age_young'] = 1\n",
    "df.loc[(df['Age'] >= 27) & (df['Age'] < 50), 'Age_adult'] = 1\n",
    "df.loc[df['Age'] >= 50, 'Age_old'] = 1\n",
    "\n",
    "df.head()"
   ]
  },
  {
   "cell_type": "markdown",
   "metadata": {},
   "source": [
    "OBJECT field : [Exploding columns based on values]"
   ]
  },
  {
   "cell_type": "markdown",
   "metadata": {},
   "source": [
    "Those having NaN values -  Saving accounts, Checking account"
   ]
  },
  {
   "cell_type": "markdown",
   "metadata": {},
   "source": [
    "Categorical value - Job, Housing, Purpose "
   ]
  },
  {
   "cell_type": "code",
   "execution_count": 134,
   "metadata": {},
   "outputs": [
    {
     "data": {
      "text/html": [
       "<div>\n",
       "<style scoped>\n",
       "    .dataframe tbody tr th:only-of-type {\n",
       "        vertical-align: middle;\n",
       "    }\n",
       "\n",
       "    .dataframe tbody tr th {\n",
       "        vertical-align: top;\n",
       "    }\n",
       "\n",
       "    .dataframe thead th {\n",
       "        text-align: right;\n",
       "    }\n",
       "</style>\n",
       "<table border=\"1\" class=\"dataframe\">\n",
       "  <thead>\n",
       "    <tr style=\"text-align: right;\">\n",
       "      <th></th>\n",
       "      <th>Checking_little</th>\n",
       "      <th>Checking_moderate</th>\n",
       "      <th>Checking_null</th>\n",
       "      <th>Checking_rich</th>\n",
       "      <th>Savings_little</th>\n",
       "      <th>Savings_moderate</th>\n",
       "      <th>Savings_null</th>\n",
       "      <th>Savings_quite rich</th>\n",
       "      <th>Savings_rich</th>\n",
       "      <th>Purpose_business</th>\n",
       "      <th>...</th>\n",
       "      <th>Risk</th>\n",
       "      <th>Credit_small</th>\n",
       "      <th>Credit_med</th>\n",
       "      <th>Credit_big</th>\n",
       "      <th>Duration_short</th>\n",
       "      <th>Duration_med</th>\n",
       "      <th>Duration_long</th>\n",
       "      <th>Age_young</th>\n",
       "      <th>Age_adult</th>\n",
       "      <th>Age_old</th>\n",
       "    </tr>\n",
       "  </thead>\n",
       "  <tbody>\n",
       "    <tr>\n",
       "      <th>0</th>\n",
       "      <td>1</td>\n",
       "      <td>0</td>\n",
       "      <td>0</td>\n",
       "      <td>0</td>\n",
       "      <td>0</td>\n",
       "      <td>0</td>\n",
       "      <td>1</td>\n",
       "      <td>0</td>\n",
       "      <td>0</td>\n",
       "      <td>0</td>\n",
       "      <td>...</td>\n",
       "      <td>0</td>\n",
       "      <td>1</td>\n",
       "      <td>0</td>\n",
       "      <td>0</td>\n",
       "      <td>1</td>\n",
       "      <td>0</td>\n",
       "      <td>0</td>\n",
       "      <td>0</td>\n",
       "      <td>0</td>\n",
       "      <td>1</td>\n",
       "    </tr>\n",
       "    <tr>\n",
       "      <th>1</th>\n",
       "      <td>0</td>\n",
       "      <td>1</td>\n",
       "      <td>0</td>\n",
       "      <td>0</td>\n",
       "      <td>1</td>\n",
       "      <td>0</td>\n",
       "      <td>0</td>\n",
       "      <td>0</td>\n",
       "      <td>0</td>\n",
       "      <td>0</td>\n",
       "      <td>...</td>\n",
       "      <td>1</td>\n",
       "      <td>0</td>\n",
       "      <td>1</td>\n",
       "      <td>0</td>\n",
       "      <td>0</td>\n",
       "      <td>0</td>\n",
       "      <td>1</td>\n",
       "      <td>1</td>\n",
       "      <td>0</td>\n",
       "      <td>0</td>\n",
       "    </tr>\n",
       "    <tr>\n",
       "      <th>2</th>\n",
       "      <td>0</td>\n",
       "      <td>0</td>\n",
       "      <td>1</td>\n",
       "      <td>0</td>\n",
       "      <td>1</td>\n",
       "      <td>0</td>\n",
       "      <td>0</td>\n",
       "      <td>0</td>\n",
       "      <td>0</td>\n",
       "      <td>0</td>\n",
       "      <td>...</td>\n",
       "      <td>0</td>\n",
       "      <td>0</td>\n",
       "      <td>1</td>\n",
       "      <td>0</td>\n",
       "      <td>0</td>\n",
       "      <td>1</td>\n",
       "      <td>0</td>\n",
       "      <td>0</td>\n",
       "      <td>1</td>\n",
       "      <td>0</td>\n",
       "    </tr>\n",
       "    <tr>\n",
       "      <th>3</th>\n",
       "      <td>1</td>\n",
       "      <td>0</td>\n",
       "      <td>0</td>\n",
       "      <td>0</td>\n",
       "      <td>1</td>\n",
       "      <td>0</td>\n",
       "      <td>0</td>\n",
       "      <td>0</td>\n",
       "      <td>0</td>\n",
       "      <td>0</td>\n",
       "      <td>...</td>\n",
       "      <td>0</td>\n",
       "      <td>0</td>\n",
       "      <td>1</td>\n",
       "      <td>0</td>\n",
       "      <td>0</td>\n",
       "      <td>0</td>\n",
       "      <td>1</td>\n",
       "      <td>0</td>\n",
       "      <td>1</td>\n",
       "      <td>0</td>\n",
       "    </tr>\n",
       "    <tr>\n",
       "      <th>4</th>\n",
       "      <td>1</td>\n",
       "      <td>0</td>\n",
       "      <td>0</td>\n",
       "      <td>0</td>\n",
       "      <td>1</td>\n",
       "      <td>0</td>\n",
       "      <td>0</td>\n",
       "      <td>0</td>\n",
       "      <td>0</td>\n",
       "      <td>0</td>\n",
       "      <td>...</td>\n",
       "      <td>1</td>\n",
       "      <td>0</td>\n",
       "      <td>1</td>\n",
       "      <td>0</td>\n",
       "      <td>0</td>\n",
       "      <td>1</td>\n",
       "      <td>0</td>\n",
       "      <td>0</td>\n",
       "      <td>0</td>\n",
       "      <td>1</td>\n",
       "    </tr>\n",
       "  </tbody>\n",
       "</table>\n",
       "<p>5 rows × 44 columns</p>\n",
       "</div>"
      ],
      "text/plain": [
       "   Checking_little  Checking_moderate  Checking_null  Checking_rich  \\\n",
       "0                1                  0              0              0   \n",
       "1                0                  1              0              0   \n",
       "2                0                  0              1              0   \n",
       "3                1                  0              0              0   \n",
       "4                1                  0              0              0   \n",
       "\n",
       "   Savings_little  Savings_moderate  Savings_null  Savings_quite rich  \\\n",
       "0               0                 0             1                   0   \n",
       "1               1                 0             0                   0   \n",
       "2               1                 0             0                   0   \n",
       "3               1                 0             0                   0   \n",
       "4               1                 0             0                   0   \n",
       "\n",
       "   Savings_rich  Purpose_business   ...     Risk  Credit_small  Credit_med  \\\n",
       "0             0                 0   ...        0             1           0   \n",
       "1             0                 0   ...        1             0           1   \n",
       "2             0                 0   ...        0             0           1   \n",
       "3             0                 0   ...        0             0           1   \n",
       "4             0                 0   ...        1             0           1   \n",
       "\n",
       "   Credit_big  Duration_short  Duration_med  Duration_long  Age_young  \\\n",
       "0           0               1             0              0          0   \n",
       "1           0               0             0              1          1   \n",
       "2           0               0             1              0          0   \n",
       "3           0               0             0              1          0   \n",
       "4           0               0             1              0          0   \n",
       "\n",
       "   Age_adult  Age_old  \n",
       "0          0        1  \n",
       "1          0        0  \n",
       "2          1        0  \n",
       "3          1        0  \n",
       "4          0        1  \n",
       "\n",
       "[5 rows x 44 columns]"
      ]
     },
     "execution_count": 134,
     "metadata": {},
     "output_type": "execute_result"
    }
   ],
   "source": [
    "df = pd.get_dummies(df['Job'], prefix='Job').merge(df, left_index=True, right_index=True)\n",
    "df = pd.get_dummies(df['Housing'], prefix='Housing').merge(df, left_index=True, right_index=True)\n",
    "df = pd.get_dummies(df['Purpose'], prefix='Purpose').merge(df, left_index=True, right_index=True)\n",
    "df = pd.get_dummies(df['Saving accounts'], prefix='Savings').merge(df, left_index=True, right_index=True)\n",
    "df = pd.get_dummies(df['Checking account'], prefix='Checking').merge(df, left_index=True, right_index=True)\n",
    "df.head()"
   ]
  },
  {
   "cell_type": "markdown",
   "metadata": {},
   "source": [
    "Feature Selection"
   ]
  },
  {
   "cell_type": "code",
   "execution_count": 135,
   "metadata": {},
   "outputs": [],
   "source": [
    "features = ['Checking_little', 'Checking_null', 'Checking_moderate', 'Savings_little', 'Savings_null', 'Purpose_radio/TV', 'Housing_own',\n",
    "            'Credit_big', 'Duration_short', 'Age_young']"
   ]
  },
  {
   "cell_type": "code",
   "execution_count": 136,
   "metadata": {},
   "outputs": [],
   "source": [
    "X = df[features].values\n",
    "y = df['Risk'].values"
   ]
  },
  {
   "cell_type": "markdown",
   "metadata": {},
   "source": [
    "Model Accuracy"
   ]
  },
  {
   "cell_type": "code",
   "execution_count": 137,
   "metadata": {},
   "outputs": [],
   "source": [
    "less_than_1 = [.0001,.001,.01,0.1,0.2,0.3,0.4,0.5,0.6,0.7,0.8,0.9,1.0]\n",
    "more_than_1 = list(np.arange(1,11))\n",
    "classifier = DecisionTreeClassifier()\n",
    "params = {'clf__alpha': less_than_1 + more_than_1}\n",
    "model = Pipeline([('clf', classifier)])"
   ]
  },
  {
   "cell_type": "code",
   "execution_count": 138,
   "metadata": {},
   "outputs": [],
   "source": [
    "\n",
    "# Cross Validate\n",
    "def evaluate(estimator, data, label):    \n",
    "    scores = cross_validate(estimator, data, label, cv=3, \n",
    "                            scoring=['accuracy', 'precision_weighted', 'recall_weighted', 'f1_weighted'], \n",
    "                            n_jobs=-1)\n",
    "    print(scores)\n",
    "    accuracy_score = scores['test_accuracy']\n",
    "    precision_score = scores['test_precision_weighted']\n",
    "    recall_score = scores['test_recall_weighted']\n",
    "    f1_score = scores['test_f1_weighted']\n",
    "\n",
    "    print(\"Accuracy score: {0:.3f} (+/- {1:.3f})\".format(accuracy_score.mean(), accuracy_score.std()))\n",
    "    print(\"Precision score: {0:.3f} (+/- {1:.3f})\".format(precision_score.mean(), precision_score.std()))\n",
    "    print(\"Recall score: {0:.3f} (+/- {1:.3f})\".format(recall_score.mean(), recall_score.std()))\n",
    "    print(\"F1 score: {0:.3f} (+/- {1:.3f})\".format(f1_score.mean(), f1_score.std()))"
   ]
  },
  {
   "cell_type": "code",
   "execution_count": 139,
   "metadata": {},
   "outputs": [
    {
     "name": "stdout",
     "output_type": "stream",
     "text": [
      "{'train_precision_weighted': array([0.78150559, 0.78679181, 0.76723516]), 'test_recall_weighted': array([0.67964072, 0.68168168, 0.64864865]), 'test_f1_weighted': array([0.66907559, 0.67878244, 0.60835608]), 'test_precision_weighted': array([0.6629049 , 0.67631942, 0.59385982]), 'train_recall_weighted': array([0.78828829, 0.7916042 , 0.77211394]), 'test_accuracy': array([0.67964072, 0.68168168, 0.64864865]), 'train_f1_weighted': array([0.78320824, 0.78848537, 0.74433164]), 'fit_time': array([0.02319193, 0.03691316, 0.0257504 ]), 'train_accuracy': array([0.78828829, 0.7916042 , 0.77211394]), 'score_time': array([0.08206391, 0.02044964, 0.02319932])}\n",
      "Accuracy score: 0.670 (+/- 0.015)\n",
      "Precision score: 0.644 (+/- 0.036)\n",
      "Recall score: 0.670 (+/- 0.015)\n",
      "F1 score: 0.652 (+/- 0.031)\n"
     ]
    }
   ],
   "source": [
    "evaluate(model, X, y)"
   ]
  }
 ],
 "metadata": {
  "kernelspec": {
   "display_name": "Python 3",
   "language": "python",
   "name": "python3"
  },
  "language_info": {
   "codemirror_mode": {
    "name": "ipython",
    "version": 3
   },
   "file_extension": ".py",
   "mimetype": "text/x-python",
   "name": "python",
   "nbconvert_exporter": "python",
   "pygments_lexer": "ipython3",
   "version": "3.5.2"
  }
 },
 "nbformat": 4,
 "nbformat_minor": 2
}
